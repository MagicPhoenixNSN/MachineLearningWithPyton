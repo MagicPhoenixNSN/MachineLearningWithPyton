{
 "cells": [
  {
   "cell_type": "markdown",
   "metadata": {},
   "source": [
    "Practice Project 1"
   ]
  },
  {
   "cell_type": "code",
   "execution_count": 1,
   "metadata": {},
   "outputs": [],
   "source": [
    "import pandas as pd\n",
    "import numpy as np\n",
    "\n",
    "def warn(**args, **kwargs):\n",
    "    pass\n",
    "\n",
    "import warnings\n",
    "warnings.warn = warn\n",
    "warnings.filterwarnings('ignore')"
   ]
  },
  {
   "cell_type": "code",
   "execution_count": 27,
   "metadata": {},
   "outputs": [],
   "source": [
    "URL = \"List_of_countries_by_GDP_.html\""
   ]
  },
  {
   "cell_type": "code",
   "execution_count": 59,
   "metadata": {},
   "outputs": [],
   "source": [
    "data = pd.read_html(URL)\n",
    "df = data[3]\n",
    "\n",
    "df.columns = range(df.shape[1])\n",
    "\n",
    "df = df[[0,2]]\n",
    "\n",
    "df = df.iloc[1:11, :]\n",
    "df.columns = ['Country', 'GDP (Million USD)']\n",
    "\n",
    "# 1 [] = Collum, [[]] = Values of collum?\n",
    "\n",
    "df['GDP (Million USD)'] = df[\"GDP (Million USD)\"].astype(int)\n",
    "df[['GDP (Million USD)']] = df[[\"GDP (Million USD)\"]]/1000\n",
    "\n",
    "df[['GDP (Million USD)']] = np.round(df[['GDP (Million USD)']], 2)\n",
    "\n",
    "df.rename(columns = {'GDP (Million USD)' : \"GDP (Billion USD)\"})\n",
    "\n",
    "df.to_csv(\"GDP.csv\")\n",
    "\n",
    "\n",
    "\n",
    "\n",
    "\n",
    "\n"
   ]
  }
 ],
 "metadata": {
  "kernelspec": {
   "display_name": "Python 3",
   "language": "python",
   "name": "python3"
  },
  "language_info": {
   "codemirror_mode": {
    "name": "ipython",
    "version": 3
   },
   "file_extension": ".py",
   "mimetype": "text/x-python",
   "name": "python",
   "nbconvert_exporter": "python",
   "pygments_lexer": "ipython3",
   "version": "3.12.3"
  }
 },
 "nbformat": 4,
 "nbformat_minor": 2
}
