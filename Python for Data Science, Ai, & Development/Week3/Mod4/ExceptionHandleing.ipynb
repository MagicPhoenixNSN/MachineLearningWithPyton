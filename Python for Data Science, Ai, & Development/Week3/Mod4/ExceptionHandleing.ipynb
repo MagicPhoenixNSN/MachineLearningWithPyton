{
 "cells": [
  {
   "cell_type": "markdown",
   "metadata": {},
   "source": [
    "Exeption Handleing"
   ]
  },
  {
   "cell_type": "code",
   "execution_count": null,
   "metadata": {},
   "outputs": [],
   "source": [
    "def safe_devide(numerator, denominator):\n",
    "    try:\n",
    "        print(\"Atempting to devide \", numerator, \"by\", denominator)\n",
    "        a = numerator/denominator\n",
    "    except ZeroDivisionError:\n",
    "        print(\"Error: Cannot devide by Zero.\")\n",
    "    except: \n",
    "        print(\"Something eent wrong.\")\n",
    "    else:\n",
    "        print(\"Success: \", a)\n",
    "\n",
    "numeratorInput = int(input(\"Enter a numerator:\"))\n",
    "denominatorInput = int(input(\"Enter a denominator:\"))\n",
    "print(safe_devide(numeratorInput, denominatorInput))"
   ]
  },
  {
   "cell_type": "code",
   "execution_count": 3,
   "metadata": {},
   "outputs": [
    {
     "name": "stdout",
     "output_type": "stream",
     "text": [
      "Attemting to Square root -6\n",
      "Invalid Input! Please enter a positive int or float!\n",
      "None\n"
     ]
    }
   ],
   "source": [
    "import math\n",
    "def square_root(number1):\n",
    "    try:\n",
    "        print(\"Attemting to Square root\", number1)\n",
    "        squaredNumber = math.sqrt(number1)\n",
    "    except ValueError:\n",
    "        print(\"Invalid Input! Please enter a positive int or float!\")\n",
    "    except:\n",
    "        print(\"Error with your imput.\")\n",
    "    else:\n",
    "        print(\"Success: \", squaredNumber)\n",
    "number = int(input(\"Number to Square Root:\"))\n",
    "print(square_root(number))\n",
    "\n",
    "\n"
   ]
  },
  {
   "cell_type": "code",
   "execution_count": 7,
   "metadata": {},
   "outputs": [
    {
     "name": "stdout",
     "output_type": "stream",
     "text": [
      "Answer 3.5\n"
     ]
    }
   ],
   "source": [
    "\n",
    "\n",
    "def math_task(num):\n",
    "    try:\n",
    "        result = num /(num-5)\n",
    "        print(\"Answer\", result)\n",
    "    except Exception as e:\n",
    "        print(\"An error occurred during calculation.\")\n",
    "numberInput = int(input(\"Enter Number:\"))\n",
    "math_task(numberInput)\n",
    "\n",
    "\n"
   ]
  },
  {
   "cell_type": "code",
   "execution_count": null,
   "metadata": {},
   "outputs": [],
   "source": []
  },
  {
   "cell_type": "code",
   "execution_count": null,
   "metadata": {},
   "outputs": [],
   "source": []
  }
 ],
 "metadata": {
  "kernelspec": {
   "display_name": "Python 3",
   "language": "python",
   "name": "python3"
  },
  "language_info": {
   "codemirror_mode": {
    "name": "ipython",
    "version": 3
   },
   "file_extension": ".py",
   "mimetype": "text/x-python",
   "name": "python",
   "nbconvert_exporter": "python",
   "pygments_lexer": "ipython3",
   "version": "3.12.1"
  }
 },
 "nbformat": 4,
 "nbformat_minor": 2
}
