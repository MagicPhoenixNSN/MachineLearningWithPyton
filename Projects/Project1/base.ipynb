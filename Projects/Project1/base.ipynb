{
 "cells": [
  {
   "cell_type": "markdown",
   "metadata": {},
   "source": [
    "Highest Weather of Farfax, Arlington"
   ]
  },
  {
   "cell_type": "code",
   "execution_count": 3,
   "metadata": {},
   "outputs": [],
   "source": [
    "from bs4 import BeautifulSoup\n",
    "import requests\n",
    "import pandas as pd"
   ]
  },
  {
   "cell_type": "code",
   "execution_count": 4,
   "metadata": {},
   "outputs": [],
   "source": [
    "URL_A = \"https://www.timeanddate.com/weather/usa/arlington-wa/climate\"\n",
    "URL_NY = \"https://www.timeanddate.com/weather/usa/new-york/climate\""
   ]
  },
  {
   "cell_type": "markdown",
   "metadata": {},
   "source": [
    "NY List"
   ]
  },
  {
   "cell_type": "code",
   "execution_count": 5,
   "metadata": {},
   "outputs": [
    {
     "name": "stderr",
     "output_type": "stream",
     "text": [
      "/var/folders/8f/3k2pfgwd1w10sjclx28z3pt00000gn/T/ipykernel_47038/2402868529.py:2: FutureWarning: Passing literal html to 'read_html' is deprecated and will be removed in a future version. To read from a literal string, wrap it in a 'StringIO' object.\n",
      "  df2=pd.read_html(r2.text)\n"
     ]
    },
    {
     "data": {
      "text/html": [
       "<div>\n",
       "<style scoped>\n",
       "    .dataframe tbody tr th:only-of-type {\n",
       "        vertical-align: middle;\n",
       "    }\n",
       "\n",
       "    .dataframe tbody tr th {\n",
       "        vertical-align: top;\n",
       "    }\n",
       "\n",
       "    .dataframe thead th {\n",
       "        text-align: right;\n",
       "    }\n",
       "</style>\n",
       "<table border=\"1\" class=\"dataframe\">\n",
       "  <thead>\n",
       "    <tr style=\"text-align: right;\">\n",
       "      <th></th>\n",
       "      <th>Quick Climate Info</th>\n",
       "      <th>Quick Climate Info.1</th>\n",
       "    </tr>\n",
       "  </thead>\n",
       "  <tbody>\n",
       "    <tr>\n",
       "      <th>0</th>\n",
       "      <td>Hottest Month</td>\n",
       "      <td>July (77 °F avg)</td>\n",
       "    </tr>\n",
       "    <tr>\n",
       "      <th>1</th>\n",
       "      <td>Coldest Month</td>\n",
       "      <td>January (34 °F avg)</td>\n",
       "    </tr>\n",
       "    <tr>\n",
       "      <th>2</th>\n",
       "      <td>Wettest Month</td>\n",
       "      <td>July (4.83\" avg)</td>\n",
       "    </tr>\n",
       "    <tr>\n",
       "      <th>3</th>\n",
       "      <td>Windiest Month</td>\n",
       "      <td>January (13 mph avg)</td>\n",
       "    </tr>\n",
       "    <tr>\n",
       "      <th>4</th>\n",
       "      <td>Annual precip.</td>\n",
       "      <td>50.10\" (per year)</td>\n",
       "    </tr>\n",
       "  </tbody>\n",
       "</table>\n",
       "</div>"
      ],
      "text/plain": [
       "  Quick Climate Info  Quick Climate Info.1\n",
       "0      Hottest Month      July (77 °F avg)\n",
       "1      Coldest Month   January (34 °F avg)\n",
       "2      Wettest Month      July (4.83\" avg)\n",
       "3     Windiest Month  January (13 mph avg)\n",
       "4     Annual precip.     50.10\" (per year)"
      ]
     },
     "execution_count": 5,
     "metadata": {},
     "output_type": "execute_result"
    }
   ],
   "source": [
    "r2 = requests.get(URL_NY) #gets website\n",
    "df2=pd.read_html(r2.text) #r2.text gets the html of the webpage,\n",
    "#then pandas creates a list of DataFrame\n",
    "df2[0] #Reference the DataFrame i want"
   ]
  },
  {
   "cell_type": "markdown",
   "metadata": {},
   "source": [
    "Arlington List"
   ]
  },
  {
   "cell_type": "code",
   "execution_count": 6,
   "metadata": {},
   "outputs": [
    {
     "name": "stderr",
     "output_type": "stream",
     "text": [
      "/var/folders/8f/3k2pfgwd1w10sjclx28z3pt00000gn/T/ipykernel_47038/3221704957.py:4: FutureWarning: Passing literal html to 'read_html' is deprecated and will be removed in a future version. To read from a literal string, wrap it in a 'StringIO' object.\n",
      "  df = pd.read_html(r.text)\n"
     ]
    },
    {
     "data": {
      "text/html": [
       "<div>\n",
       "<style scoped>\n",
       "    .dataframe tbody tr th:only-of-type {\n",
       "        vertical-align: middle;\n",
       "    }\n",
       "\n",
       "    .dataframe tbody tr th {\n",
       "        vertical-align: top;\n",
       "    }\n",
       "\n",
       "    .dataframe thead th {\n",
       "        text-align: right;\n",
       "    }\n",
       "</style>\n",
       "<table border=\"1\" class=\"dataframe\">\n",
       "  <thead>\n",
       "    <tr style=\"text-align: right;\">\n",
       "      <th></th>\n",
       "      <th>Quick Climate Info</th>\n",
       "      <th>Quick Climate Info.1</th>\n",
       "    </tr>\n",
       "  </thead>\n",
       "  <tbody>\n",
       "    <tr>\n",
       "      <th>0</th>\n",
       "      <td>Hottest Month</td>\n",
       "      <td>August (64 °F avg)</td>\n",
       "    </tr>\n",
       "    <tr>\n",
       "      <th>1</th>\n",
       "      <td>Coldest Month</td>\n",
       "      <td>December (38 °F avg)</td>\n",
       "    </tr>\n",
       "    <tr>\n",
       "      <th>2</th>\n",
       "      <td>Wettest Month</td>\n",
       "      <td>November (6.67\" avg)</td>\n",
       "    </tr>\n",
       "    <tr>\n",
       "      <th>3</th>\n",
       "      <td>Windiest Month</td>\n",
       "      <td>March (12 mph avg)</td>\n",
       "    </tr>\n",
       "    <tr>\n",
       "      <th>4</th>\n",
       "      <td>Annual precip.</td>\n",
       "      <td>48.15\" (per year)</td>\n",
       "    </tr>\n",
       "  </tbody>\n",
       "</table>\n",
       "</div>"
      ],
      "text/plain": [
       "  Quick Climate Info  Quick Climate Info.1\n",
       "0      Hottest Month    August (64 °F avg)\n",
       "1      Coldest Month  December (38 °F avg)\n",
       "2      Wettest Month  November (6.67\" avg)\n",
       "3     Windiest Month    March (12 mph avg)\n",
       "4     Annual precip.     48.15\" (per year)"
      ]
     },
     "execution_count": 6,
     "metadata": {},
     "output_type": "execute_result"
    }
   ],
   "source": [
    "r = requests.get(URL_A)\n",
    "r.status_code\n",
    "#print(r.text)\n",
    "df = pd.read_html(r.text)\n",
    "df[0]\n",
    "\n",
    "\n",
    "\n"
   ]
  },
  {
   "cell_type": "markdown",
   "metadata": {},
   "source": [
    "Getting Highest Temp, Lowest Temp, and Precipitation"
   ]
  },
  {
   "cell_type": "code",
   "execution_count": 7,
   "metadata": {},
   "outputs": [
    {
     "data": {
      "text/plain": [
       "'August (64\\xa0°F avg)'"
      ]
     },
     "execution_count": 7,
     "metadata": {},
     "output_type": "execute_result"
    }
   ],
   "source": [
    "Arlington_heat = df[0].iloc[0,1] #grabs item from first DataFrame, on \n",
    "#row 0, column 1\n",
    "Arlington_heat"
   ]
  },
  {
   "cell_type": "code",
   "execution_count": 8,
   "metadata": {},
   "outputs": [
    {
     "data": {
      "text/plain": [
       "'December (38\\xa0°F avg)'"
      ]
     },
     "execution_count": 8,
     "metadata": {},
     "output_type": "execute_result"
    }
   ],
   "source": [
    "Arlington_cold = df[0].iloc[1,1]\n",
    "Arlington_cold"
   ]
  },
  {
   "cell_type": "code",
   "execution_count": 9,
   "metadata": {},
   "outputs": [
    {
     "data": {
      "text/plain": [
       "'48.15\" (per year)'"
      ]
     },
     "execution_count": 9,
     "metadata": {},
     "output_type": "execute_result"
    }
   ],
   "source": [
    "Arlington_preciptation = df[0].iloc[4,1]\n",
    "Arlington_preciptation"
   ]
  },
  {
   "cell_type": "code",
   "execution_count": 10,
   "metadata": {},
   "outputs": [
    {
     "data": {
      "text/plain": [
       "'July (77\\xa0°F avg)'"
      ]
     },
     "execution_count": 10,
     "metadata": {},
     "output_type": "execute_result"
    }
   ],
   "source": [
    "NY_heat = df2[0].iloc[0,1]\n",
    "NY_heat"
   ]
  },
  {
   "cell_type": "code",
   "execution_count": 11,
   "metadata": {},
   "outputs": [
    {
     "data": {
      "text/plain": [
       "'January (34\\xa0°F avg)'"
      ]
     },
     "execution_count": 11,
     "metadata": {},
     "output_type": "execute_result"
    }
   ],
   "source": [
    "NY_cold = df2[0].iloc[1,1]\n",
    "NY_cold"
   ]
  },
  {
   "cell_type": "code",
   "execution_count": 12,
   "metadata": {},
   "outputs": [
    {
     "data": {
      "text/plain": [
       "'50.10\" (per year)'"
      ]
     },
     "execution_count": 12,
     "metadata": {},
     "output_type": "execute_result"
    }
   ],
   "source": [
    "NY_preciptation = df2[0].iloc[4,1]\n",
    "NY_preciptation"
   ]
  },
  {
   "cell_type": "markdown",
   "metadata": {},
   "source": [
    "Final Answer\n",
    "\n",
    "Saving to a new list"
   ]
  },
  {
   "cell_type": "code",
   "execution_count": 13,
   "metadata": {},
   "outputs": [
    {
     "data": {
      "text/html": [
       "<div>\n",
       "<style scoped>\n",
       "    .dataframe tbody tr th:only-of-type {\n",
       "        vertical-align: middle;\n",
       "    }\n",
       "\n",
       "    .dataframe tbody tr th {\n",
       "        vertical-align: top;\n",
       "    }\n",
       "\n",
       "    .dataframe thead th {\n",
       "        text-align: right;\n",
       "    }\n",
       "</style>\n",
       "<table border=\"1\" class=\"dataframe\">\n",
       "  <thead>\n",
       "    <tr style=\"text-align: right;\">\n",
       "      <th></th>\n",
       "      <th>Name</th>\n",
       "      <th>Highest Temp</th>\n",
       "      <th>Lowest Temps</th>\n",
       "      <th>Percipitation</th>\n",
       "    </tr>\n",
       "  </thead>\n",
       "  <tbody>\n",
       "    <tr>\n",
       "      <th>0</th>\n",
       "      <td>Arlington</td>\n",
       "      <td>August (64 °F avg)</td>\n",
       "      <td>December (38 °F avg)</td>\n",
       "      <td>48.15\" (per year)</td>\n",
       "    </tr>\n",
       "    <tr>\n",
       "      <th>1</th>\n",
       "      <td>New York</td>\n",
       "      <td>July (77 °F avg)</td>\n",
       "      <td>January (34 °F avg)</td>\n",
       "      <td>50.10\" (per year)</td>\n",
       "    </tr>\n",
       "  </tbody>\n",
       "</table>\n",
       "</div>"
      ],
      "text/plain": [
       "        Name        Highest Temp          Lowest Temps      Percipitation\n",
       "0  Arlington  August (64 °F avg)  December (38 °F avg)  48.15\" (per year)\n",
       "1   New York    July (77 °F avg)   January (34 °F avg)  50.10\" (per year)"
      ]
     },
     "execution_count": 13,
     "metadata": {},
     "output_type": "execute_result"
    }
   ],
   "source": [
    "finalDict = {\"Name\": [\"Arlington\", \"New York\"], \"Highest Temp\": [Arlington_heat, NY_heat], \"Lowest Temps\": [Arlington_cold, NY_cold], \"Percipitation\": [Arlington_preciptation, NY_preciptation]}\n",
    "#Saving all of the data from above onto\n",
    "#A new list that is structured better\n",
    "\n",
    "finalDF = pd.DataFrame(finalDict) #Convirting Dict to DataFrame\n",
    "finalDF"
   ]
  },
  {
   "cell_type": "markdown",
   "metadata": {},
   "source": [
    "Export to CSV"
   ]
  },
  {
   "cell_type": "code",
   "execution_count": 14,
   "metadata": {},
   "outputs": [],
   "source": [
    "finalDF.to_csv(\"Weather.csv\")"
   ]
  }
 ],
 "metadata": {
  "kernelspec": {
   "display_name": "Python 3",
   "language": "python",
   "name": "python3"
  },
  "language_info": {
   "codemirror_mode": {
    "name": "ipython",
    "version": 3
   },
   "file_extension": ".py",
   "mimetype": "text/x-python",
   "name": "python",
   "nbconvert_exporter": "python",
   "pygments_lexer": "ipython3",
   "version": "3.12.3"
  }
 },
 "nbformat": 4,
 "nbformat_minor": 2
}
