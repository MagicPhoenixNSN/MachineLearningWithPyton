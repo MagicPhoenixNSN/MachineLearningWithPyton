{
 "cells": [
  {
   "cell_type": "markdown",
   "metadata": {},
   "source": [
    "For Loops\n"
   ]
  },
  {
   "cell_type": "code",
   "execution_count": 2,
   "metadata": {},
   "outputs": [
    {
     "name": "stdout",
     "output_type": "stream",
     "text": [
      "-5\n",
      "-4\n",
      "-3\n",
      "-2\n",
      "-1\n",
      "0\n",
      "1\n",
      "2\n",
      "3\n",
      "4\n"
     ]
    }
   ],
   "source": [
    "for i in range(-5, 5):\n",
    "    print(i)"
   ]
  },
  {
   "cell_type": "code",
   "execution_count": 4,
   "metadata": {},
   "outputs": [
    {
     "name": "stdout",
     "output_type": "stream",
     "text": [
      "rock\n",
      "R&B\n",
      "Soundtrack\n",
      "R&B\n",
      "soul\n",
      "pop\n",
      "rock\n",
      "R&B\n",
      "Soundtrack\n",
      "R&B\n",
      "soul\n",
      "pop\n"
     ]
    }
   ],
   "source": [
    "Genres=[ 'rock', 'R&B', 'Soundtrack', 'R&B', 'soul', 'pop']\n",
    "for i in range(len(Genres)):\n",
    "    print(Genres[i])\n",
    "\n",
    "for Genre in Genres:\n",
    "    print(Genre)\n"
   ]
  },
  {
   "cell_type": "code",
   "execution_count": 5,
   "metadata": {},
   "outputs": [
    {
     "name": "stdout",
     "output_type": "stream",
     "text": [
      "red\n",
      "yellow\n",
      "green\n",
      "purple\n",
      "blue\n"
     ]
    }
   ],
   "source": [
    "squares=['red', 'yellow', 'green', 'purple', 'blue']\n",
    "for square in squares:\n",
    "    print(square)"
   ]
  },
  {
   "cell_type": "markdown",
   "metadata": {},
   "source": [
    "While Loops"
   ]
  },
  {
   "cell_type": "code",
   "execution_count": 10,
   "metadata": {},
   "outputs": [
    {
     "name": "stdout",
     "output_type": "stream",
     "text": [
      "10\n",
      "9.5\n",
      "10\n",
      "8\n",
      "7.5\n"
     ]
    }
   ],
   "source": [
    "PlayListRatings = [10, 9.5, 10, 8, 7.5, 5, 10, 10]\n",
    "i = 0\n",
    "while i < len(PlayListRatings)and PlayListRatings[i] >= 6:\n",
    "    print(PlayListRatings[i])\n",
    "    i += 1"
   ]
  },
  {
   "cell_type": "code",
   "execution_count": 12,
   "metadata": {},
   "outputs": [
    {
     "name": "stdout",
     "output_type": "stream",
     "text": [
      "['orange', 'orange']\n"
     ]
    }
   ],
   "source": [
    "squares = ['orange', 'orange', 'purple', 'blue ', 'orange']\n",
    "new_squares = []\n",
    "i = 0\n",
    "while i < len(squares) and squares[i] == 'orange':\n",
    "    new_squares.append(squares[i])\n",
    "    i += 1  \n",
    "\n",
    "print(new_squares)"
   ]
  },
  {
   "cell_type": "markdown",
   "metadata": {},
   "source": [
    "Challanges"
   ]
  },
  {
   "cell_type": "code",
   "execution_count": 21,
   "metadata": {},
   "outputs": [
    {
     "name": "stdout",
     "output_type": "stream",
     "text": [
      "Tables of 6: 6* 0 = 0\n",
      "Tables of 6: 6* 1 = 6\n",
      "Tables of 6: 6* 2 = 12\n",
      "Tables of 6: 6* 3 = 18\n",
      "Tables of 6: 6* 4 = 24\n",
      "Tables of 6: 6* 5 = 30\n",
      "Tables of 6: 6* 6 = 36\n",
      "Tables of 6: 6* 7 = 42\n",
      "Tables of 6: 6* 8 = 48\n",
      "Tables of 6: 6* 9 = 54\n",
      "Tables of 7: 7* 0 = 0\n",
      "Tables of 7: 7* 1 = 7\n",
      "Tables of 7: 7* 2 = 14\n",
      "Tables of 7: 7* 3 = 21\n",
      "Tables of 7: 7* 4 = 28\n",
      "Tables of 7: 7* 5 = 35\n",
      "Tables of 7: 7* 6 = 42\n",
      "Tables of 7: 7* 7 = 49\n",
      "Tables of 7: 7* 8 = 56\n",
      "Tables of 7: 7* 9 = 63\n"
     ]
    }
   ],
   "source": [
    "for i in range(10):\n",
    "    print( \"Tables of 6:\", \"6*\",i,\"=\", i*6)\n",
    "\n",
    "for i in range(10):\n",
    "    print( \"Tables of 7:\", \"7*\",i,\"=\", i*7)"
   ]
  },
  {
   "cell_type": "code",
   "execution_count": 24,
   "metadata": {},
   "outputs": [
    {
     "name": "stdout",
     "output_type": "stream",
     "text": [
      "['giraffe', 'gorilla', 'parrots']\n"
     ]
    }
   ],
   "source": [
    "\n",
    "Animals = [\"lion\", \"giraffe\", \"gorilla\", \"parrots\", \"crocodile\",\"deer\", \"swan\"]\n",
    "newAnimals = []\n",
    "i = 0\n",
    "\n",
    "while i < len(Animals):\n",
    "    if len(Animals[i]) == 7:\n",
    "        newAnimals.append(Animals[i])\n",
    "    i+= 1\n",
    "print(newAnimals)\n"
   ]
  },
  {
   "cell_type": "code",
   "execution_count": null,
   "metadata": {},
   "outputs": [],
   "source": []
  }
 ],
 "metadata": {
  "kernelspec": {
   "display_name": "Python 3",
   "language": "python",
   "name": "python3"
  },
  "language_info": {
   "codemirror_mode": {
    "name": "ipython",
    "version": 3
   },
   "file_extension": ".py",
   "mimetype": "text/x-python",
   "name": "python",
   "nbconvert_exporter": "python",
   "pygments_lexer": "ipython3",
   "version": "3.12.1"
  }
 },
 "nbformat": 4,
 "nbformat_minor": 2
}
