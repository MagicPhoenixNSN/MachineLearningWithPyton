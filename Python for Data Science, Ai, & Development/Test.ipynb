{
 "cells": [
  {
   "cell_type": "markdown",
   "metadata": {},
   "source": [
    "Challanges for Exeptions"
   ]
  },
  {
   "cell_type": "code",
   "execution_count": 3,
   "metadata": {},
   "outputs": [
    {
     "name": "stdout",
     "output_type": "stream",
     "text": [
      "Atempting to devide  5 by 0\n",
      "Error: Cannot devide by Zero.\n",
      "None\n"
     ]
    }
   ],
   "source": [
    "def safe_devide(numerator, denominator):\n",
    "    try:\n",
    "        print(\"Atempting to devide \", numerator, \"by\", denominator)\n",
    "        a = numerator/denominator\n",
    "    except ZeroDivisionError:\n",
    "        print(\"Error: Cannot devide by Zero.\")\n",
    "    except: \n",
    "        print(\"Something eent wrong.\")\n",
    "    else:\n",
    "        print(\"Success: \", a)\n",
    "\n",
    "numeratorInput = int(input(\"Enter a numerator:\"))\n",
    "denominatorInput = int(input(\"Enter a denominator:\"))\n",
    "print(safe_devide(numeratorInput, denominatorInput))\n",
    "\n"
   ]
  },
  {
   "cell_type": "code",
   "execution_count": null,
   "metadata": {},
   "outputs": [],
   "source": []
  }
 ],
 "metadata": {
  "kernelspec": {
   "display_name": "Python 3",
   "language": "python",
   "name": "python3"
  },
  "language_info": {
   "codemirror_mode": {
    "name": "ipython",
    "version": 3
   },
   "file_extension": ".py",
   "mimetype": "text/x-python",
   "name": "python",
   "nbconvert_exporter": "python",
   "pygments_lexer": "ipython3",
   "version": "3.12.3"
  }
 },
 "nbformat": 4,
 "nbformat_minor": 2
}
