{
 "cells": [
  {
   "cell_type": "markdown",
   "metadata": {},
   "source": [
    "# Weather Scraper Numpy Addition"
   ]
  },
  {
   "cell_type": "markdown",
   "metadata": {},
   "source": [
    "Gets every max temperature, min temperature, and percipitation for every day between Start_Date and End_Date, in both locations"
   ]
  },
  {
   "cell_type": "markdown",
   "metadata": {},
   "source": [
    "THIS CODE WILL NOT WORK WHEN RAN! IF YOU WANT TO TEST, CONTACT ME FOR THE API KEY"
   ]
  },
  {
   "cell_type": "code",
   "execution_count": 2,
   "metadata": {},
   "outputs": [],
   "source": [
    "import pandas as pd #pandas\n",
    "from datetime import date, timedelta # Calculating Dates\n",
    "import requests #requests for https\n",
    "import json # Ability to convert things to json\n",
    "import numpy as np"
   ]
  },
  {
   "cell_type": "code",
   "execution_count": 3,
   "metadata": {},
   "outputs": [],
   "source": [
    "url = 'https://api.openweathermap.org/data/3.0/onecall/day_summary?' #Api link\n",
    "api_key = '&appid=4f97ab3365cb578ab4c6dccf08d03df4' #key\n",
    "locations = ['Arlington, VA', 'New York, NY'] #two locations\n",
    "loc2coord = { #two locations in a dict with corrisponding lat and lon\n",
    "    'Arlington, VA': 'lat=38.8816&lon=77.0910',\n",
    "    'New York, NY': 'lat=40.7128&lon=74.0060'\n",
    "}"
   ]
  },
  {
   "cell_type": "code",
   "execution_count": 4,
   "metadata": {},
   "outputs": [],
   "source": [
    "def k2f(kevlin): #converts kelvin to Fernight\n",
    "    z = (9/5)*(kevlin-273) + 32\n",
    "    return(z)"
   ]
  },
  {
   "cell_type": "code",
   "execution_count": 5,
   "metadata": {},
   "outputs": [],
   "source": [
    "Start_Date = date(2024, 1, 1) #Jan 1, 2024\n",
    "End_Date = date(2024, 4, 28)# Apr 27, 2024\n"
   ]
  },
  {
   "cell_type": "code",
   "execution_count": 6,
   "metadata": {},
   "outputs": [
    {
     "data": {
      "text/plain": [
       "DatetimeIndex(['2024-01-01', '2024-01-02', '2024-01-03', '2024-01-04',\n",
       "               '2024-01-05'],\n",
       "              dtype='datetime64[ns]', freq='D')"
      ]
     },
     "execution_count": 6,
     "metadata": {},
     "output_type": "execute_result"
    }
   ],
   "source": [
    "datesList = pd.date_range(Start_Date, End_Date-timedelta(days=1), freq='d') #This creates a list of all of the dates between Jan1, 2024 and Apr 27, 2024\n",
    "dates = datesList[:5]\n",
    "dates"
   ]
  },
  {
   "cell_type": "code",
   "execution_count": 9,
   "metadata": {},
   "outputs": [
    {
     "data": {
      "text/html": [
       "<div>\n",
       "<style scoped>\n",
       "    .dataframe tbody tr th:only-of-type {\n",
       "        vertical-align: middle;\n",
       "    }\n",
       "\n",
       "    .dataframe tbody tr th {\n",
       "        vertical-align: top;\n",
       "    }\n",
       "\n",
       "    .dataframe thead th {\n",
       "        text-align: right;\n",
       "    }\n",
       "</style>\n",
       "<table border=\"1\" class=\"dataframe\">\n",
       "  <thead>\n",
       "    <tr style=\"text-align: right;\">\n",
       "      <th></th>\n",
       "      <th>place</th>\n",
       "      <th>date</th>\n",
       "      <th>high temp</th>\n",
       "      <th>low temp</th>\n",
       "      <th>precipitation</th>\n",
       "    </tr>\n",
       "  </thead>\n",
       "  <tbody>\n",
       "    <tr>\n",
       "      <th>0</th>\n",
       "      <td>Arlington, VA</td>\n",
       "      <td>2024-01-01</td>\n",
       "      <td>37.24</td>\n",
       "      <td>23.34</td>\n",
       "      <td>0.00</td>\n",
       "    </tr>\n",
       "    <tr>\n",
       "      <th>1</th>\n",
       "      <td>Arlington, VA</td>\n",
       "      <td>2024-01-02</td>\n",
       "      <td>37.38</td>\n",
       "      <td>23.40</td>\n",
       "      <td>0.00</td>\n",
       "    </tr>\n",
       "    <tr>\n",
       "      <th>2</th>\n",
       "      <td>Arlington, VA</td>\n",
       "      <td>2024-01-03</td>\n",
       "      <td>36.54</td>\n",
       "      <td>23.56</td>\n",
       "      <td>0.00</td>\n",
       "    </tr>\n",
       "    <tr>\n",
       "      <th>3</th>\n",
       "      <td>Arlington, VA</td>\n",
       "      <td>2024-01-04</td>\n",
       "      <td>36.45</td>\n",
       "      <td>23.94</td>\n",
       "      <td>0.00</td>\n",
       "    </tr>\n",
       "    <tr>\n",
       "      <th>4</th>\n",
       "      <td>Arlington, VA</td>\n",
       "      <td>2024-01-05</td>\n",
       "      <td>35.29</td>\n",
       "      <td>24.76</td>\n",
       "      <td>0.00</td>\n",
       "    </tr>\n",
       "    <tr>\n",
       "      <th>...</th>\n",
       "      <td>...</td>\n",
       "      <td>...</td>\n",
       "      <td>...</td>\n",
       "      <td>...</td>\n",
       "      <td>...</td>\n",
       "    </tr>\n",
       "    <tr>\n",
       "      <th>231</th>\n",
       "      <td>New York, NY</td>\n",
       "      <td>2024-04-23</td>\n",
       "      <td>52.27</td>\n",
       "      <td>43.18</td>\n",
       "      <td>0.20</td>\n",
       "    </tr>\n",
       "    <tr>\n",
       "      <th>232</th>\n",
       "      <td>New York, NY</td>\n",
       "      <td>2024-04-24</td>\n",
       "      <td>54.23</td>\n",
       "      <td>41.32</td>\n",
       "      <td>0.00</td>\n",
       "    </tr>\n",
       "    <tr>\n",
       "      <th>233</th>\n",
       "      <td>New York, NY</td>\n",
       "      <td>2024-04-25</td>\n",
       "      <td>58.03</td>\n",
       "      <td>43.84</td>\n",
       "      <td>6.16</td>\n",
       "    </tr>\n",
       "    <tr>\n",
       "      <th>234</th>\n",
       "      <td>New York, NY</td>\n",
       "      <td>2024-04-26</td>\n",
       "      <td>47.98</td>\n",
       "      <td>40.48</td>\n",
       "      <td>1.66</td>\n",
       "    </tr>\n",
       "    <tr>\n",
       "      <th>235</th>\n",
       "      <td>New York, NY</td>\n",
       "      <td>2024-04-27</td>\n",
       "      <td>48.18</td>\n",
       "      <td>37.29</td>\n",
       "      <td>0.10</td>\n",
       "    </tr>\n",
       "  </tbody>\n",
       "</table>\n",
       "<p>236 rows × 5 columns</p>\n",
       "</div>"
      ],
      "text/plain": [
       "             place       date  high temp  low temp  precipitation\n",
       "0    Arlington, VA 2024-01-01      37.24     23.34           0.00\n",
       "1    Arlington, VA 2024-01-02      37.38     23.40           0.00\n",
       "2    Arlington, VA 2024-01-03      36.54     23.56           0.00\n",
       "3    Arlington, VA 2024-01-04      36.45     23.94           0.00\n",
       "4    Arlington, VA 2024-01-05      35.29     24.76           0.00\n",
       "..             ...        ...        ...       ...            ...\n",
       "231   New York, NY 2024-04-23      52.27     43.18           0.20\n",
       "232   New York, NY 2024-04-24      54.23     41.32           0.00\n",
       "233   New York, NY 2024-04-25      58.03     43.84           6.16\n",
       "234   New York, NY 2024-04-26      47.98     40.48           1.66\n",
       "235   New York, NY 2024-04-27      48.18     37.29           0.10\n",
       "\n",
       "[236 rows x 5 columns]"
      ]
     },
     "execution_count": 9,
     "metadata": {},
     "output_type": "execute_result"
    }
   ],
   "source": [
    "\n",
    "\n",
    "for a_loc in locations:\n",
    "    for a_date in dates:\n",
    "        requestD = requests.get(url + loc2coord[a_loc] + \"&date=\" + str(a_date)[:10] +api_key)\n",
    "        requestJSON = json.loads(requestD.text)\n",
    "        #print(requestD.text)\n",
    "        #print(str(a_date)[:10])\n",
    "        df.loc[len(df.index)] = [ #get last row then assign stuff to it\n",
    "            a_loc,\n",
    "            a_date,\n",
    "            round(k2f(float(requestJSON['temperature']['max'])), 2),\n",
    "            round(k2f(float(requestJSON['temperature']['min'])), 2),\n",
    "            requestJSON['precipitation']['total']\n",
    "        ]\n",
    "\n",
    "#Basicaly, the for loop goes through both locations, and in each locations, it goes through the dates\n",
    "#It then gets the specified data for that date, converts it to json (so i can read it easier)\n",
    "#It then adds it to the DataFrame df with the location, date, min temp, max temp, and percipitation\n",
    "\n",
    "\n",
    "\n",
    "\n",
    "\n"
   ]
  },
  {
   "cell_type": "code",
   "execution_count": 10,
   "metadata": {},
   "outputs": [],
   "source": [
    "df.to_csv(\"WeatherTempPercp.csv\")\n",
    "#exports to CSV"
   ]
  },
  {
   "cell_type": "code",
   "execution_count": 17,
   "metadata": {},
   "outputs": [
    {
     "data": {
      "text/plain": [
       "array([[[ 1,  2],\n",
       "        [ 3,  4],\n",
       "        [ 9,  0]],\n",
       "\n",
       "       [[ 5,  6],\n",
       "        [ 7,  8],\n",
       "        [10, 11]]])"
      ]
     },
     "execution_count": 17,
     "metadata": {},
     "output_type": "execute_result"
    }
   ],
   "source": [
    "array_2d = np.array([[[1,2], [3,4], [9,0]], [[5,6], [7,8], [10,11]]])\n",
    "array_2d"
   ]
  },
  {
   "cell_type": "code",
   "execution_count": null,
   "metadata": {},
   "outputs": [],
   "source": []
  }
 ],
 "metadata": {
  "kernelspec": {
   "display_name": "Python 3",
   "language": "python",
   "name": "python3"
  },
  "language_info": {
   "codemirror_mode": {
    "name": "ipython",
    "version": 3
   },
   "file_extension": ".py",
   "mimetype": "text/x-python",
   "name": "python",
   "nbconvert_exporter": "python",
   "pygments_lexer": "ipython3",
   "version": "3.12.3"
  }
 },
 "nbformat": 4,
 "nbformat_minor": 2
}
