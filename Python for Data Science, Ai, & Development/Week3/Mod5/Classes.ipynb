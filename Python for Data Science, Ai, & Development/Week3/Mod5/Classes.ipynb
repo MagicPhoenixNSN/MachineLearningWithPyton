{
 "cells": [
  {
   "cell_type": "markdown",
   "metadata": {},
   "source": [
    "Classes"
   ]
  },
  {
   "cell_type": "code",
   "execution_count": 4,
   "metadata": {},
   "outputs": [
    {
     "name": "stdout",
     "output_type": "stream",
     "text": [
      "Properties of Vehicle\n",
      "Color of car: white\n",
      "Milage 20\n",
      "Max speed: 200\n",
      "Current Seats: 5\n",
      "Properties of Vehicle\n",
      "Color of car: white\n",
      "Milage 25\n",
      "Max speed: 180\n",
      "Current Seats: 4\n"
     ]
    }
   ],
   "source": [
    "class Car:\n",
    "    color = \"white\"\n",
    "    def __init__(self, maximum_speed, mileage):\n",
    "        self.maximum_speed = maximum_speed\n",
    "        self.mileage = mileage\n",
    "        self.capacity = None\n",
    "    def assign_seat_capacity(self, capacity):\n",
    "        self.capacity = capacity\n",
    "    def properties(self):\n",
    "        print(\"Properties of Vehicle\")\n",
    "        print(\"Color of car:\", self.color)\n",
    "        print(\"Milage\", self.mileage)\n",
    "        print(\"Max speed:\", self.maximum_speed)\n",
    "        print(\"Current Seats:\", self.capacity)\n",
    "\n",
    "\n",
    "car1 = Car(200, 20)\n",
    "car1.assign_seat_capacity(5)\n",
    "car1.properties()\n",
    "\n",
    "car2 = Car(180, 25)\n",
    "car2.assign_seat_capacity(4)\n",
    "car2.properties()\n",
    "\n",
    "    "
   ]
  },
  {
   "cell_type": "code",
   "execution_count": null,
   "metadata": {},
   "outputs": [],
   "source": []
  }
 ],
 "metadata": {
  "kernelspec": {
   "display_name": "Python 3",
   "language": "python",
   "name": "python3"
  },
  "language_info": {
   "codemirror_mode": {
    "name": "ipython",
    "version": 3
   },
   "file_extension": ".py",
   "mimetype": "text/x-python",
   "name": "python",
   "nbconvert_exporter": "python",
   "pygments_lexer": "ipython3",
   "version": "3.12.1"
  }
 },
 "nbformat": 4,
 "nbformat_minor": 2
}
